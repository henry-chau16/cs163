{
 "cells": [
  {
   "cell_type": "markdown",
   "id": "e27b28a4",
   "metadata": {},
   "source": []
  },
  {
   "cell_type": "code",
   "execution_count": 14,
   "id": "f0fa99f5",
   "metadata": {},
   "outputs": [
    {
     "data": {
      "text/html": [
       "<div>\n",
       "<style scoped>\n",
       "    .dataframe tbody tr th:only-of-type {\n",
       "        vertical-align: middle;\n",
       "    }\n",
       "\n",
       "    .dataframe tbody tr th {\n",
       "        vertical-align: top;\n",
       "    }\n",
       "\n",
       "    .dataframe thead th {\n",
       "        text-align: right;\n",
       "    }\n",
       "</style>\n",
       "<table border=\"1\" class=\"dataframe\">\n",
       "  <thead>\n",
       "    <tr style=\"text-align: right;\">\n",
       "      <th></th>\n",
       "      <th>YEAR</th>\n",
       "      <th>PH_SEQ</th>\n",
       "      <th>PF_SEQ</th>\n",
       "      <th>A_AGE</th>\n",
       "      <th>A_HGA</th>\n",
       "      <th>PEAFEVER</th>\n",
       "      <th>PERIDNUM</th>\n",
       "      <th>A_MJOCC</th>\n",
       "      <th>WSAL_VAL</th>\n",
       "      <th>RTM_VAL</th>\n",
       "      <th>...</th>\n",
       "      <th>FPOVCUT</th>\n",
       "      <th>FAMLIS</th>\n",
       "      <th>POVLL</th>\n",
       "      <th>FTOTVAL</th>\n",
       "      <th>FEARNVAL</th>\n",
       "      <th>CAP_TOT</th>\n",
       "      <th>DIV_TOT</th>\n",
       "      <th>RTM_TOT</th>\n",
       "      <th>ADJUSTED_INC</th>\n",
       "      <th>INCOME_CLASS</th>\n",
       "    </tr>\n",
       "  </thead>\n",
       "  <tbody>\n",
       "    <tr>\n",
       "      <th>0</th>\n",
       "      <td>2014</td>\n",
       "      <td>3</td>\n",
       "      <td>1</td>\n",
       "      <td>47</td>\n",
       "      <td>40</td>\n",
       "      <td>2</td>\n",
       "      <td>9.936598e+21</td>\n",
       "      <td>10</td>\n",
       "      <td>32500</td>\n",
       "      <td>0</td>\n",
       "      <td>...</td>\n",
       "      <td>15600</td>\n",
       "      <td>4</td>\n",
       "      <td>8</td>\n",
       "      <td>32508</td>\n",
       "      <td>32500</td>\n",
       "      <td>0.0</td>\n",
       "      <td>0</td>\n",
       "      <td>0</td>\n",
       "      <td>22986.627243</td>\n",
       "      <td>Lower</td>\n",
       "    </tr>\n",
       "    <tr>\n",
       "      <th>1</th>\n",
       "      <td>2014</td>\n",
       "      <td>3</td>\n",
       "      <td>1</td>\n",
       "      <td>44</td>\n",
       "      <td>40</td>\n",
       "      <td>2</td>\n",
       "      <td>9.936598e+21</td>\n",
       "      <td>0</td>\n",
       "      <td>0</td>\n",
       "      <td>0</td>\n",
       "      <td>...</td>\n",
       "      <td>15600</td>\n",
       "      <td>4</td>\n",
       "      <td>8</td>\n",
       "      <td>32508</td>\n",
       "      <td>32500</td>\n",
       "      <td>0.0</td>\n",
       "      <td>0</td>\n",
       "      <td>0</td>\n",
       "      <td>22986.627243</td>\n",
       "      <td>Lower</td>\n",
       "    </tr>\n",
       "    <tr>\n",
       "      <th>2</th>\n",
       "      <td>2014</td>\n",
       "      <td>4</td>\n",
       "      <td>1</td>\n",
       "      <td>80</td>\n",
       "      <td>39</td>\n",
       "      <td>2</td>\n",
       "      <td>6.960240e+21</td>\n",
       "      <td>0</td>\n",
       "      <td>0</td>\n",
       "      <td>0</td>\n",
       "      <td>...</td>\n",
       "      <td>14081</td>\n",
       "      <td>2</td>\n",
       "      <td>4</td>\n",
       "      <td>15718</td>\n",
       "      <td>0</td>\n",
       "      <td>0.0</td>\n",
       "      <td>0</td>\n",
       "      <td>0</td>\n",
       "      <td>11114.304387</td>\n",
       "      <td>Lower</td>\n",
       "    </tr>\n",
       "    <tr>\n",
       "      <th>3</th>\n",
       "      <td>2014</td>\n",
       "      <td>4</td>\n",
       "      <td>1</td>\n",
       "      <td>85</td>\n",
       "      <td>39</td>\n",
       "      <td>1</td>\n",
       "      <td>6.960240e+21</td>\n",
       "      <td>0</td>\n",
       "      <td>0</td>\n",
       "      <td>0</td>\n",
       "      <td>...</td>\n",
       "      <td>14081</td>\n",
       "      <td>2</td>\n",
       "      <td>4</td>\n",
       "      <td>15718</td>\n",
       "      <td>0</td>\n",
       "      <td>0.0</td>\n",
       "      <td>0</td>\n",
       "      <td>0</td>\n",
       "      <td>11114.304387</td>\n",
       "      <td>Lower</td>\n",
       "    </tr>\n",
       "    <tr>\n",
       "      <th>4</th>\n",
       "      <td>2014</td>\n",
       "      <td>6</td>\n",
       "      <td>1</td>\n",
       "      <td>58</td>\n",
       "      <td>40</td>\n",
       "      <td>2</td>\n",
       "      <td>7.093207e+20</td>\n",
       "      <td>8</td>\n",
       "      <td>0</td>\n",
       "      <td>0</td>\n",
       "      <td>...</td>\n",
       "      <td>15600</td>\n",
       "      <td>4</td>\n",
       "      <td>7</td>\n",
       "      <td>30111</td>\n",
       "      <td>30000</td>\n",
       "      <td>0.0</td>\n",
       "      <td>0</td>\n",
       "      <td>0</td>\n",
       "      <td>21291.692288</td>\n",
       "      <td>Lower</td>\n",
       "    </tr>\n",
       "    <tr>\n",
       "      <th>...</th>\n",
       "      <td>...</td>\n",
       "      <td>...</td>\n",
       "      <td>...</td>\n",
       "      <td>...</td>\n",
       "      <td>...</td>\n",
       "      <td>...</td>\n",
       "      <td>...</td>\n",
       "      <td>...</td>\n",
       "      <td>...</td>\n",
       "      <td>...</td>\n",
       "      <td>...</td>\n",
       "      <td>...</td>\n",
       "      <td>...</td>\n",
       "      <td>...</td>\n",
       "      <td>...</td>\n",
       "      <td>...</td>\n",
       "      <td>...</td>\n",
       "      <td>...</td>\n",
       "      <td>...</td>\n",
       "      <td>...</td>\n",
       "      <td>...</td>\n",
       "    </tr>\n",
       "    <tr>\n",
       "      <th>1755383</th>\n",
       "      <td>2024</td>\n",
       "      <td>89473</td>\n",
       "      <td>1</td>\n",
       "      <td>46</td>\n",
       "      <td>42</td>\n",
       "      <td>1</td>\n",
       "      <td>1.600950e+21</td>\n",
       "      <td>4</td>\n",
       "      <td>80000</td>\n",
       "      <td>0</td>\n",
       "      <td>...</td>\n",
       "      <td>36363</td>\n",
       "      <td>4</td>\n",
       "      <td>11</td>\n",
       "      <td>130826</td>\n",
       "      <td>130000</td>\n",
       "      <td>0.0</td>\n",
       "      <td>0</td>\n",
       "      <td>0</td>\n",
       "      <td>58507.165845</td>\n",
       "      <td>Middle</td>\n",
       "    </tr>\n",
       "    <tr>\n",
       "      <th>1755384</th>\n",
       "      <td>2024</td>\n",
       "      <td>89473</td>\n",
       "      <td>1</td>\n",
       "      <td>45</td>\n",
       "      <td>43</td>\n",
       "      <td>1</td>\n",
       "      <td>1.600950e+21</td>\n",
       "      <td>3</td>\n",
       "      <td>50000</td>\n",
       "      <td>0</td>\n",
       "      <td>...</td>\n",
       "      <td>36363</td>\n",
       "      <td>4</td>\n",
       "      <td>11</td>\n",
       "      <td>130826</td>\n",
       "      <td>130000</td>\n",
       "      <td>0.0</td>\n",
       "      <td>0</td>\n",
       "      <td>0</td>\n",
       "      <td>58507.165845</td>\n",
       "      <td>Middle</td>\n",
       "    </tr>\n",
       "    <tr>\n",
       "      <th>1755385</th>\n",
       "      <td>2024</td>\n",
       "      <td>89473</td>\n",
       "      <td>1</td>\n",
       "      <td>14</td>\n",
       "      <td>0</td>\n",
       "      <td>-1</td>\n",
       "      <td>1.600950e+21</td>\n",
       "      <td>0</td>\n",
       "      <td>0</td>\n",
       "      <td>0</td>\n",
       "      <td>...</td>\n",
       "      <td>36363</td>\n",
       "      <td>4</td>\n",
       "      <td>11</td>\n",
       "      <td>130826</td>\n",
       "      <td>130000</td>\n",
       "      <td>0.0</td>\n",
       "      <td>0</td>\n",
       "      <td>0</td>\n",
       "      <td>58507.165845</td>\n",
       "      <td>Middle</td>\n",
       "    </tr>\n",
       "    <tr>\n",
       "      <th>1755386</th>\n",
       "      <td>2024</td>\n",
       "      <td>89473</td>\n",
       "      <td>1</td>\n",
       "      <td>10</td>\n",
       "      <td>0</td>\n",
       "      <td>-1</td>\n",
       "      <td>1.600950e+21</td>\n",
       "      <td>0</td>\n",
       "      <td>0</td>\n",
       "      <td>0</td>\n",
       "      <td>...</td>\n",
       "      <td>36363</td>\n",
       "      <td>4</td>\n",
       "      <td>11</td>\n",
       "      <td>130826</td>\n",
       "      <td>130000</td>\n",
       "      <td>0.0</td>\n",
       "      <td>0</td>\n",
       "      <td>0</td>\n",
       "      <td>58507.165845</td>\n",
       "      <td>Middle</td>\n",
       "    </tr>\n",
       "    <tr>\n",
       "      <th>1755387</th>\n",
       "      <td>2024</td>\n",
       "      <td>89473</td>\n",
       "      <td>1</td>\n",
       "      <td>9</td>\n",
       "      <td>0</td>\n",
       "      <td>-1</td>\n",
       "      <td>1.600950e+21</td>\n",
       "      <td>0</td>\n",
       "      <td>0</td>\n",
       "      <td>0</td>\n",
       "      <td>...</td>\n",
       "      <td>36363</td>\n",
       "      <td>4</td>\n",
       "      <td>11</td>\n",
       "      <td>130826</td>\n",
       "      <td>130000</td>\n",
       "      <td>0.0</td>\n",
       "      <td>0</td>\n",
       "      <td>0</td>\n",
       "      <td>58507.165845</td>\n",
       "      <td>Middle</td>\n",
       "    </tr>\n",
       "  </tbody>\n",
       "</table>\n",
       "<p>1755388 rows × 26 columns</p>\n",
       "</div>"
      ],
      "text/plain": [
       "         YEAR  PH_SEQ  PF_SEQ  A_AGE  A_HGA  PEAFEVER      PERIDNUM  A_MJOCC  \\\n",
       "0        2014       3       1     47     40         2  9.936598e+21       10   \n",
       "1        2014       3       1     44     40         2  9.936598e+21        0   \n",
       "2        2014       4       1     80     39         2  6.960240e+21        0   \n",
       "3        2014       4       1     85     39         1  6.960240e+21        0   \n",
       "4        2014       6       1     58     40         2  7.093207e+20        8   \n",
       "...       ...     ...     ...    ...    ...       ...           ...      ...   \n",
       "1755383  2024   89473       1     46     42         1  1.600950e+21        4   \n",
       "1755384  2024   89473       1     45     43         1  1.600950e+21        3   \n",
       "1755385  2024   89473       1     14      0        -1  1.600950e+21        0   \n",
       "1755386  2024   89473       1     10      0        -1  1.600950e+21        0   \n",
       "1755387  2024   89473       1      9      0        -1  1.600950e+21        0   \n",
       "\n",
       "         WSAL_VAL  RTM_VAL  ...  FPOVCUT  FAMLIS  POVLL  FTOTVAL  FEARNVAL  \\\n",
       "0           32500        0  ...    15600       4      8    32508     32500   \n",
       "1               0        0  ...    15600       4      8    32508     32500   \n",
       "2               0        0  ...    14081       2      4    15718         0   \n",
       "3               0        0  ...    14081       2      4    15718         0   \n",
       "4               0        0  ...    15600       4      7    30111     30000   \n",
       "...           ...      ...  ...      ...     ...    ...      ...       ...   \n",
       "1755383     80000        0  ...    36363       4     11   130826    130000   \n",
       "1755384     50000        0  ...    36363       4     11   130826    130000   \n",
       "1755385         0        0  ...    36363       4     11   130826    130000   \n",
       "1755386         0        0  ...    36363       4     11   130826    130000   \n",
       "1755387         0        0  ...    36363       4     11   130826    130000   \n",
       "\n",
       "         CAP_TOT  DIV_TOT  RTM_TOT  ADJUSTED_INC  INCOME_CLASS  \n",
       "0            0.0        0        0  22986.627243         Lower  \n",
       "1            0.0        0        0  22986.627243         Lower  \n",
       "2            0.0        0        0  11114.304387         Lower  \n",
       "3            0.0        0        0  11114.304387         Lower  \n",
       "4            0.0        0        0  21291.692288         Lower  \n",
       "...          ...      ...      ...           ...           ...  \n",
       "1755383      0.0        0        0  58507.165845        Middle  \n",
       "1755384      0.0        0        0  58507.165845        Middle  \n",
       "1755385      0.0        0        0  58507.165845        Middle  \n",
       "1755386      0.0        0        0  58507.165845        Middle  \n",
       "1755387      0.0        0        0  58507.165845        Middle  \n",
       "\n",
       "[1755388 rows x 26 columns]"
      ]
     },
     "execution_count": 14,
     "metadata": {},
     "output_type": "execute_result"
    }
   ],
   "source": [
    "import pandas as pd\n",
    "\n",
    "asec_data = pd.read_csv('data/merged_asec.csv')\n",
    "\n",
    "asec_data"
   ]
  },
  {
   "cell_type": "code",
   "execution_count": 122,
   "id": "1afed379",
   "metadata": {},
   "outputs": [
    {
     "data": {
      "text/html": [
       "<div>\n",
       "<style scoped>\n",
       "    .dataframe tbody tr th:only-of-type {\n",
       "        vertical-align: middle;\n",
       "    }\n",
       "\n",
       "    .dataframe tbody tr th {\n",
       "        vertical-align: top;\n",
       "    }\n",
       "\n",
       "    .dataframe thead th {\n",
       "        text-align: right;\n",
       "    }\n",
       "</style>\n",
       "<table border=\"1\" class=\"dataframe\">\n",
       "  <thead>\n",
       "    <tr style=\"text-align: right;\">\n",
       "      <th></th>\n",
       "      <th></th>\n",
       "      <th>median_income</th>\n",
       "      <th>change</th>\n",
       "      <th>pct_change</th>\n",
       "      <th>total_change</th>\n",
       "      <th>total_change_pct</th>\n",
       "    </tr>\n",
       "    <tr>\n",
       "      <th>year</th>\n",
       "      <th>class</th>\n",
       "      <th></th>\n",
       "      <th></th>\n",
       "      <th></th>\n",
       "      <th></th>\n",
       "      <th></th>\n",
       "    </tr>\n",
       "  </thead>\n",
       "  <tbody>\n",
       "    <tr>\n",
       "      <th rowspan=\"3\" valign=\"top\">2014</th>\n",
       "      <th>Lower</th>\n",
       "      <td>13554.500000</td>\n",
       "      <td>NaN</td>\n",
       "      <td>NaN</td>\n",
       "      <td>0.000000</td>\n",
       "      <td>0.000000</td>\n",
       "    </tr>\n",
       "    <tr>\n",
       "      <th>Middle</th>\n",
       "      <td>42557.500000</td>\n",
       "      <td>NaN</td>\n",
       "      <td>NaN</td>\n",
       "      <td>0.000000</td>\n",
       "      <td>0.000000</td>\n",
       "    </tr>\n",
       "    <tr>\n",
       "      <th>Upper</th>\n",
       "      <td>97533.000000</td>\n",
       "      <td>NaN</td>\n",
       "      <td>NaN</td>\n",
       "      <td>0.000000</td>\n",
       "      <td>0.000000</td>\n",
       "    </tr>\n",
       "    <tr>\n",
       "      <th rowspan=\"3\" valign=\"top\">2015</th>\n",
       "      <th>Lower</th>\n",
       "      <td>13118.245005</td>\n",
       "      <td>-436.254995</td>\n",
       "      <td>-3.218525</td>\n",
       "      <td>-436.254995</td>\n",
       "      <td>-3.218525</td>\n",
       "    </tr>\n",
       "    <tr>\n",
       "      <th>Middle</th>\n",
       "      <td>41569.219382</td>\n",
       "      <td>-988.280618</td>\n",
       "      <td>-2.322224</td>\n",
       "      <td>-988.280618</td>\n",
       "      <td>-2.322224</td>\n",
       "    </tr>\n",
       "    <tr>\n",
       "      <th>Upper</th>\n",
       "      <td>97175.563618</td>\n",
       "      <td>-357.436382</td>\n",
       "      <td>-0.366477</td>\n",
       "      <td>-357.436382</td>\n",
       "      <td>-0.366477</td>\n",
       "    </tr>\n",
       "    <tr>\n",
       "      <th rowspan=\"3\" valign=\"top\">2016</th>\n",
       "      <th>Lower</th>\n",
       "      <td>13856.406461</td>\n",
       "      <td>738.161456</td>\n",
       "      <td>5.626983</td>\n",
       "      <td>301.906461</td>\n",
       "      <td>2.227352</td>\n",
       "    </tr>\n",
       "    <tr>\n",
       "      <th>Middle</th>\n",
       "      <td>42912.500000</td>\n",
       "      <td>1343.280618</td>\n",
       "      <td>3.231431</td>\n",
       "      <td>355.000000</td>\n",
       "      <td>0.834166</td>\n",
       "    </tr>\n",
       "    <tr>\n",
       "      <th>Upper</th>\n",
       "      <td>99767.858567</td>\n",
       "      <td>2592.294949</td>\n",
       "      <td>2.667641</td>\n",
       "      <td>2234.858567</td>\n",
       "      <td>2.291387</td>\n",
       "    </tr>\n",
       "    <tr>\n",
       "      <th rowspan=\"3\" valign=\"top\">2017</th>\n",
       "      <th>Lower</th>\n",
       "      <td>14439.530232</td>\n",
       "      <td>583.123772</td>\n",
       "      <td>4.208333</td>\n",
       "      <td>885.030232</td>\n",
       "      <td>6.529420</td>\n",
       "    </tr>\n",
       "    <tr>\n",
       "      <th>Middle</th>\n",
       "      <td>44895.977304</td>\n",
       "      <td>1983.477304</td>\n",
       "      <td>4.622143</td>\n",
       "      <td>2338.477304</td>\n",
       "      <td>5.494865</td>\n",
       "    </tr>\n",
       "    <tr>\n",
       "      <th>Upper</th>\n",
       "      <td>106501.500000</td>\n",
       "      <td>6733.641433</td>\n",
       "      <td>6.749309</td>\n",
       "      <td>8968.500000</td>\n",
       "      <td>9.195349</td>\n",
       "    </tr>\n",
       "    <tr>\n",
       "      <th rowspan=\"3\" valign=\"top\">2018</th>\n",
       "      <th>Lower</th>\n",
       "      <td>15007.000000</td>\n",
       "      <td>567.469768</td>\n",
       "      <td>3.929974</td>\n",
       "      <td>1452.500000</td>\n",
       "      <td>10.715998</td>\n",
       "    </tr>\n",
       "    <tr>\n",
       "      <th>Middle</th>\n",
       "      <td>46120.792401</td>\n",
       "      <td>1224.815097</td>\n",
       "      <td>2.728118</td>\n",
       "      <td>3563.292401</td>\n",
       "      <td>8.372889</td>\n",
       "    </tr>\n",
       "    <tr>\n",
       "      <th>Upper</th>\n",
       "      <td>109389.419050</td>\n",
       "      <td>2887.919050</td>\n",
       "      <td>2.711623</td>\n",
       "      <td>11856.419050</td>\n",
       "      <td>12.156315</td>\n",
       "    </tr>\n",
       "    <tr>\n",
       "      <th rowspan=\"3\" valign=\"top\">2019</th>\n",
       "      <th>Lower</th>\n",
       "      <td>15842.260163</td>\n",
       "      <td>835.260163</td>\n",
       "      <td>5.565804</td>\n",
       "      <td>2287.760163</td>\n",
       "      <td>16.878234</td>\n",
       "    </tr>\n",
       "    <tr>\n",
       "      <th>Middle</th>\n",
       "      <td>48002.500000</td>\n",
       "      <td>1881.707599</td>\n",
       "      <td>4.079955</td>\n",
       "      <td>5445.000000</td>\n",
       "      <td>12.794455</td>\n",
       "    </tr>\n",
       "    <tr>\n",
       "      <th>Upper</th>\n",
       "      <td>114134.642665</td>\n",
       "      <td>4745.223616</td>\n",
       "      <td>4.337918</td>\n",
       "      <td>16601.642665</td>\n",
       "      <td>17.021565</td>\n",
       "    </tr>\n",
       "    <tr>\n",
       "      <th rowspan=\"3\" valign=\"top\">2020</th>\n",
       "      <th>Lower</th>\n",
       "      <td>17705.000000</td>\n",
       "      <td>1862.739837</td>\n",
       "      <td>11.758043</td>\n",
       "      <td>4150.500000</td>\n",
       "      <td>30.620827</td>\n",
       "    </tr>\n",
       "    <tr>\n",
       "      <th>Middle</th>\n",
       "      <td>52568.616510</td>\n",
       "      <td>4566.116510</td>\n",
       "      <td>9.512247</td>\n",
       "      <td>10011.116510</td>\n",
       "      <td>23.523742</td>\n",
       "    </tr>\n",
       "    <tr>\n",
       "      <th>Upper</th>\n",
       "      <td>125005.591428</td>\n",
       "      <td>10870.948762</td>\n",
       "      <td>9.524671</td>\n",
       "      <td>27472.591428</td>\n",
       "      <td>28.167483</td>\n",
       "    </tr>\n",
       "    <tr>\n",
       "      <th rowspan=\"3\" valign=\"top\">2021</th>\n",
       "      <th>Lower</th>\n",
       "      <td>16904.094711</td>\n",
       "      <td>-800.905289</td>\n",
       "      <td>-4.523611</td>\n",
       "      <td>3349.594711</td>\n",
       "      <td>24.712049</td>\n",
       "    </tr>\n",
       "    <tr>\n",
       "      <th>Middle</th>\n",
       "      <td>51078.000000</td>\n",
       "      <td>-1490.616510</td>\n",
       "      <td>-2.835564</td>\n",
       "      <td>8520.500000</td>\n",
       "      <td>20.021148</td>\n",
       "    </tr>\n",
       "    <tr>\n",
       "      <th>Upper</th>\n",
       "      <td>123719.449281</td>\n",
       "      <td>-1286.142147</td>\n",
       "      <td>-1.028868</td>\n",
       "      <td>26186.449281</td>\n",
       "      <td>26.848809</td>\n",
       "    </tr>\n",
       "    <tr>\n",
       "      <th rowspan=\"3\" valign=\"top\">2022</th>\n",
       "      <th>Lower</th>\n",
       "      <td>17737.385625</td>\n",
       "      <td>833.290914</td>\n",
       "      <td>4.929521</td>\n",
       "      <td>4182.885625</td>\n",
       "      <td>30.859756</td>\n",
       "    </tr>\n",
       "    <tr>\n",
       "      <th>Middle</th>\n",
       "      <td>53803.401427</td>\n",
       "      <td>2725.401427</td>\n",
       "      <td>5.335764</td>\n",
       "      <td>11245.901427</td>\n",
       "      <td>26.425193</td>\n",
       "    </tr>\n",
       "    <tr>\n",
       "      <th>Upper</th>\n",
       "      <td>130021.000000</td>\n",
       "      <td>6301.550719</td>\n",
       "      <td>5.093420</td>\n",
       "      <td>32488.000000</td>\n",
       "      <td>33.309752</td>\n",
       "    </tr>\n",
       "    <tr>\n",
       "      <th rowspan=\"3\" valign=\"top\">2023</th>\n",
       "      <th>Lower</th>\n",
       "      <td>19062.479508</td>\n",
       "      <td>1325.093883</td>\n",
       "      <td>7.470627</td>\n",
       "      <td>5507.979508</td>\n",
       "      <td>40.635800</td>\n",
       "    </tr>\n",
       "    <tr>\n",
       "      <th>Middle</th>\n",
       "      <td>57050.500000</td>\n",
       "      <td>3247.098573</td>\n",
       "      <td>6.035118</td>\n",
       "      <td>14493.000000</td>\n",
       "      <td>34.055102</td>\n",
       "    </tr>\n",
       "    <tr>\n",
       "      <th>Upper</th>\n",
       "      <td>138195.535102</td>\n",
       "      <td>8174.535102</td>\n",
       "      <td>6.287088</td>\n",
       "      <td>40662.535102</td>\n",
       "      <td>41.691053</td>\n",
       "    </tr>\n",
       "    <tr>\n",
       "      <th rowspan=\"3\" valign=\"top\">2024</th>\n",
       "      <th>Lower</th>\n",
       "      <td>20412.414523</td>\n",
       "      <td>1349.935015</td>\n",
       "      <td>7.081634</td>\n",
       "      <td>6857.914523</td>\n",
       "      <td>50.595112</td>\n",
       "    </tr>\n",
       "    <tr>\n",
       "      <th>Middle</th>\n",
       "      <td>61511.500000</td>\n",
       "      <td>4461.000000</td>\n",
       "      <td>7.819388</td>\n",
       "      <td>18954.000000</td>\n",
       "      <td>44.537391</td>\n",
       "    </tr>\n",
       "    <tr>\n",
       "      <th>Upper</th>\n",
       "      <td>148834.663731</td>\n",
       "      <td>10639.128630</td>\n",
       "      <td>7.698605</td>\n",
       "      <td>51301.663731</td>\n",
       "      <td>52.599288</td>\n",
       "    </tr>\n",
       "  </tbody>\n",
       "</table>\n",
       "</div>"
      ],
      "text/plain": [
       "             median_income        change  pct_change  total_change  \\\n",
       "year class                                                           \n",
       "2014 Lower    13554.500000           NaN         NaN      0.000000   \n",
       "     Middle   42557.500000           NaN         NaN      0.000000   \n",
       "     Upper    97533.000000           NaN         NaN      0.000000   \n",
       "2015 Lower    13118.245005   -436.254995   -3.218525   -436.254995   \n",
       "     Middle   41569.219382   -988.280618   -2.322224   -988.280618   \n",
       "     Upper    97175.563618   -357.436382   -0.366477   -357.436382   \n",
       "2016 Lower    13856.406461    738.161456    5.626983    301.906461   \n",
       "     Middle   42912.500000   1343.280618    3.231431    355.000000   \n",
       "     Upper    99767.858567   2592.294949    2.667641   2234.858567   \n",
       "2017 Lower    14439.530232    583.123772    4.208333    885.030232   \n",
       "     Middle   44895.977304   1983.477304    4.622143   2338.477304   \n",
       "     Upper   106501.500000   6733.641433    6.749309   8968.500000   \n",
       "2018 Lower    15007.000000    567.469768    3.929974   1452.500000   \n",
       "     Middle   46120.792401   1224.815097    2.728118   3563.292401   \n",
       "     Upper   109389.419050   2887.919050    2.711623  11856.419050   \n",
       "2019 Lower    15842.260163    835.260163    5.565804   2287.760163   \n",
       "     Middle   48002.500000   1881.707599    4.079955   5445.000000   \n",
       "     Upper   114134.642665   4745.223616    4.337918  16601.642665   \n",
       "2020 Lower    17705.000000   1862.739837   11.758043   4150.500000   \n",
       "     Middle   52568.616510   4566.116510    9.512247  10011.116510   \n",
       "     Upper   125005.591428  10870.948762    9.524671  27472.591428   \n",
       "2021 Lower    16904.094711   -800.905289   -4.523611   3349.594711   \n",
       "     Middle   51078.000000  -1490.616510   -2.835564   8520.500000   \n",
       "     Upper   123719.449281  -1286.142147   -1.028868  26186.449281   \n",
       "2022 Lower    17737.385625    833.290914    4.929521   4182.885625   \n",
       "     Middle   53803.401427   2725.401427    5.335764  11245.901427   \n",
       "     Upper   130021.000000   6301.550719    5.093420  32488.000000   \n",
       "2023 Lower    19062.479508   1325.093883    7.470627   5507.979508   \n",
       "     Middle   57050.500000   3247.098573    6.035118  14493.000000   \n",
       "     Upper   138195.535102   8174.535102    6.287088  40662.535102   \n",
       "2024 Lower    20412.414523   1349.935015    7.081634   6857.914523   \n",
       "     Middle   61511.500000   4461.000000    7.819388  18954.000000   \n",
       "     Upper   148834.663731  10639.128630    7.698605  51301.663731   \n",
       "\n",
       "             total_change_pct  \n",
       "year class                     \n",
       "2014 Lower           0.000000  \n",
       "     Middle          0.000000  \n",
       "     Upper           0.000000  \n",
       "2015 Lower          -3.218525  \n",
       "     Middle         -2.322224  \n",
       "     Upper          -0.366477  \n",
       "2016 Lower           2.227352  \n",
       "     Middle          0.834166  \n",
       "     Upper           2.291387  \n",
       "2017 Lower           6.529420  \n",
       "     Middle          5.494865  \n",
       "     Upper           9.195349  \n",
       "2018 Lower          10.715998  \n",
       "     Middle          8.372889  \n",
       "     Upper          12.156315  \n",
       "2019 Lower          16.878234  \n",
       "     Middle         12.794455  \n",
       "     Upper          17.021565  \n",
       "2020 Lower          30.620827  \n",
       "     Middle         23.523742  \n",
       "     Upper          28.167483  \n",
       "2021 Lower          24.712049  \n",
       "     Middle         20.021148  \n",
       "     Upper          26.848809  \n",
       "2022 Lower          30.859756  \n",
       "     Middle         26.425193  \n",
       "     Upper          33.309752  \n",
       "2023 Lower          40.635800  \n",
       "     Middle         34.055102  \n",
       "     Upper          41.691053  \n",
       "2024 Lower          50.595112  \n",
       "     Middle         44.537391  \n",
       "     Upper          52.599288  "
      ]
     },
     "execution_count": 122,
     "metadata": {},
     "output_type": "execute_result"
    }
   ],
   "source": [
    "data = []\n",
    "for year in range(2014, 2025):\n",
    "    df_year = asec_data[asec_data['YEAR'] == year]\n",
    "    for income_class in ['Lower', 'Middle', 'Upper']:\n",
    "        df_group = df_year[df_year['INCOME_CLASS'] == income_class]\n",
    "        if not df_group.empty:\n",
    "            data.append({'year': year, 'class': income_class, 'median_income': df_group['ADJUSTED_INC'].median()})\n",
    "\n",
    "income_data = pd.DataFrame(data).set_index(['year', 'class'])\n",
    "income_data['change'] = income_data['median_income'].diff(3)\n",
    "income_data['pct_change'] = income_data['median_income'].pct_change(3) * 100\n",
    "\n",
    "income_data['total_change'] = income_data['change'].groupby('class').cumsum().fillna(0)\n",
    "income_data['total_change_pct'] = ((income_data['total_change'] / (income_data['median_income'] - income_data['total_change'])) * 100).fillna(0)\n",
    "\n",
    "income_data"
   ]
  },
  {
   "cell_type": "code",
   "execution_count": 127,
   "id": "20271ca8",
   "metadata": {},
   "outputs": [
    {
     "data": {
      "application/vnd.plotly.v1+json": {
       "config": {
        "plotlyServerURL": "https://plot.ly"
       },
       "data": [
        {
         "hovertemplate": "Income Class=Lower<br>Year=%{x}<br>Increase since 2014 (%)=%{y}<extra></extra>",
         "legendgroup": "Lower",
         "line": {
          "color": "#636efa",
          "dash": "solid"
         },
         "marker": {
          "symbol": "circle"
         },
         "mode": "lines+markers",
         "name": "Lower",
         "orientation": "v",
         "showlegend": true,
         "type": "scatter",
         "x": {
          "bdata": "3gffB+AH4QfiB+MH5AflB+YH5wfoBw==",
          "dtype": "i2"
         },
         "xaxis": "x",
         "y": {
          "bdata": "AAAAAAAAAAB+TRMhir8JwNP0Rg6e0QFA4WUNRiAeGkC1vtlWl24lQO3LgunT4DBASEA1he6ePkDi2oHbSLY4QKuj1fcY3D5Ag8/K5GFRREBtqHClLExJQA==",
          "dtype": "f8"
         },
         "yaxis": "y"
        },
        {
         "hovertemplate": "Income Class=Middle<br>Year=%{x}<br>Increase since 2014 (%)=%{y}<extra></extra>",
         "legendgroup": "Middle",
         "line": {
          "color": "#EF553B",
          "dash": "solid"
         },
         "marker": {
          "symbol": "circle"
         },
         "mode": "lines+markers",
         "name": "Middle",
         "orientation": "v",
         "showlegend": true,
         "type": "scatter",
         "x": {
          "bdata": "3gffB+AH4QfiB+MH5AflB+YH5wfoBw==",
          "dtype": "i2"
         },
         "xaxis": "x",
         "y": {
          "bdata": "AAAAAAAAAAB7hTJZ6pMCwLuSne57seo/bunQ+L36FUAJRppb674gQFNkj7/ClilACisA9ROGN0Bn1jHyaQU0QEnyfm/ZbDpA8itqlA0HQUD25v42yURGQA==",
          "dtype": "f8"
         },
         "yaxis": "y"
        },
        {
         "hovertemplate": "Income Class=Upper<br>Year=%{x}<br>Increase since 2014 (%)=%{y}<extra></extra>",
         "legendgroup": "Upper",
         "line": {
          "color": "#00cc96",
          "dash": "solid"
         },
         "marker": {
          "symbol": "circle"
         },
         "mode": "lines+markers",
         "name": "Upper",
         "orientation": "v",
         "showlegend": true,
         "type": "scatter",
         "x": {
          "bdata": "3gffB+AH4QfiB+MH5AflB+YH5wfoBw==",
          "dtype": "i2"
         },
         "xaxis": "x",
         "y": {
          "bdata": "AAAAAAAAAADGDy6JXXTXv2VYrcDCVAJAVP2s0QRkIkDij8GQCFAoQO50DUOFBTFAxjt7LuAqPEAP+MqSS9k6QM86gvClp0BAlPz7b3TYREBRcop5tUxKQA==",
          "dtype": "f8"
         },
         "yaxis": "y"
        }
       ],
       "layout": {
        "legend": {
         "title": {
          "text": "Income Class"
         },
         "tracegroupgap": 0
        },
        "template": {
         "data": {
          "bar": [
           {
            "error_x": {
             "color": "#2a3f5f"
            },
            "error_y": {
             "color": "#2a3f5f"
            },
            "marker": {
             "line": {
              "color": "#E5ECF6",
              "width": 0.5
             },
             "pattern": {
              "fillmode": "overlay",
              "size": 10,
              "solidity": 0.2
             }
            },
            "type": "bar"
           }
          ],
          "barpolar": [
           {
            "marker": {
             "line": {
              "color": "#E5ECF6",
              "width": 0.5
             },
             "pattern": {
              "fillmode": "overlay",
              "size": 10,
              "solidity": 0.2
             }
            },
            "type": "barpolar"
           }
          ],
          "carpet": [
           {
            "aaxis": {
             "endlinecolor": "#2a3f5f",
             "gridcolor": "white",
             "linecolor": "white",
             "minorgridcolor": "white",
             "startlinecolor": "#2a3f5f"
            },
            "baxis": {
             "endlinecolor": "#2a3f5f",
             "gridcolor": "white",
             "linecolor": "white",
             "minorgridcolor": "white",
             "startlinecolor": "#2a3f5f"
            },
            "type": "carpet"
           }
          ],
          "choropleth": [
           {
            "colorbar": {
             "outlinewidth": 0,
             "ticks": ""
            },
            "type": "choropleth"
           }
          ],
          "contour": [
           {
            "colorbar": {
             "outlinewidth": 0,
             "ticks": ""
            },
            "colorscale": [
             [
              0,
              "#0d0887"
             ],
             [
              0.1111111111111111,
              "#46039f"
             ],
             [
              0.2222222222222222,
              "#7201a8"
             ],
             [
              0.3333333333333333,
              "#9c179e"
             ],
             [
              0.4444444444444444,
              "#bd3786"
             ],
             [
              0.5555555555555556,
              "#d8576b"
             ],
             [
              0.6666666666666666,
              "#ed7953"
             ],
             [
              0.7777777777777778,
              "#fb9f3a"
             ],
             [
              0.8888888888888888,
              "#fdca26"
             ],
             [
              1,
              "#f0f921"
             ]
            ],
            "type": "contour"
           }
          ],
          "contourcarpet": [
           {
            "colorbar": {
             "outlinewidth": 0,
             "ticks": ""
            },
            "type": "contourcarpet"
           }
          ],
          "heatmap": [
           {
            "colorbar": {
             "outlinewidth": 0,
             "ticks": ""
            },
            "colorscale": [
             [
              0,
              "#0d0887"
             ],
             [
              0.1111111111111111,
              "#46039f"
             ],
             [
              0.2222222222222222,
              "#7201a8"
             ],
             [
              0.3333333333333333,
              "#9c179e"
             ],
             [
              0.4444444444444444,
              "#bd3786"
             ],
             [
              0.5555555555555556,
              "#d8576b"
             ],
             [
              0.6666666666666666,
              "#ed7953"
             ],
             [
              0.7777777777777778,
              "#fb9f3a"
             ],
             [
              0.8888888888888888,
              "#fdca26"
             ],
             [
              1,
              "#f0f921"
             ]
            ],
            "type": "heatmap"
           }
          ],
          "histogram": [
           {
            "marker": {
             "pattern": {
              "fillmode": "overlay",
              "size": 10,
              "solidity": 0.2
             }
            },
            "type": "histogram"
           }
          ],
          "histogram2d": [
           {
            "colorbar": {
             "outlinewidth": 0,
             "ticks": ""
            },
            "colorscale": [
             [
              0,
              "#0d0887"
             ],
             [
              0.1111111111111111,
              "#46039f"
             ],
             [
              0.2222222222222222,
              "#7201a8"
             ],
             [
              0.3333333333333333,
              "#9c179e"
             ],
             [
              0.4444444444444444,
              "#bd3786"
             ],
             [
              0.5555555555555556,
              "#d8576b"
             ],
             [
              0.6666666666666666,
              "#ed7953"
             ],
             [
              0.7777777777777778,
              "#fb9f3a"
             ],
             [
              0.8888888888888888,
              "#fdca26"
             ],
             [
              1,
              "#f0f921"
             ]
            ],
            "type": "histogram2d"
           }
          ],
          "histogram2dcontour": [
           {
            "colorbar": {
             "outlinewidth": 0,
             "ticks": ""
            },
            "colorscale": [
             [
              0,
              "#0d0887"
             ],
             [
              0.1111111111111111,
              "#46039f"
             ],
             [
              0.2222222222222222,
              "#7201a8"
             ],
             [
              0.3333333333333333,
              "#9c179e"
             ],
             [
              0.4444444444444444,
              "#bd3786"
             ],
             [
              0.5555555555555556,
              "#d8576b"
             ],
             [
              0.6666666666666666,
              "#ed7953"
             ],
             [
              0.7777777777777778,
              "#fb9f3a"
             ],
             [
              0.8888888888888888,
              "#fdca26"
             ],
             [
              1,
              "#f0f921"
             ]
            ],
            "type": "histogram2dcontour"
           }
          ],
          "mesh3d": [
           {
            "colorbar": {
             "outlinewidth": 0,
             "ticks": ""
            },
            "type": "mesh3d"
           }
          ],
          "parcoords": [
           {
            "line": {
             "colorbar": {
              "outlinewidth": 0,
              "ticks": ""
             }
            },
            "type": "parcoords"
           }
          ],
          "pie": [
           {
            "automargin": true,
            "type": "pie"
           }
          ],
          "scatter": [
           {
            "fillpattern": {
             "fillmode": "overlay",
             "size": 10,
             "solidity": 0.2
            },
            "type": "scatter"
           }
          ],
          "scatter3d": [
           {
            "line": {
             "colorbar": {
              "outlinewidth": 0,
              "ticks": ""
             }
            },
            "marker": {
             "colorbar": {
              "outlinewidth": 0,
              "ticks": ""
             }
            },
            "type": "scatter3d"
           }
          ],
          "scattercarpet": [
           {
            "marker": {
             "colorbar": {
              "outlinewidth": 0,
              "ticks": ""
             }
            },
            "type": "scattercarpet"
           }
          ],
          "scattergeo": [
           {
            "marker": {
             "colorbar": {
              "outlinewidth": 0,
              "ticks": ""
             }
            },
            "type": "scattergeo"
           }
          ],
          "scattergl": [
           {
            "marker": {
             "colorbar": {
              "outlinewidth": 0,
              "ticks": ""
             }
            },
            "type": "scattergl"
           }
          ],
          "scattermap": [
           {
            "marker": {
             "colorbar": {
              "outlinewidth": 0,
              "ticks": ""
             }
            },
            "type": "scattermap"
           }
          ],
          "scattermapbox": [
           {
            "marker": {
             "colorbar": {
              "outlinewidth": 0,
              "ticks": ""
             }
            },
            "type": "scattermapbox"
           }
          ],
          "scatterpolar": [
           {
            "marker": {
             "colorbar": {
              "outlinewidth": 0,
              "ticks": ""
             }
            },
            "type": "scatterpolar"
           }
          ],
          "scatterpolargl": [
           {
            "marker": {
             "colorbar": {
              "outlinewidth": 0,
              "ticks": ""
             }
            },
            "type": "scatterpolargl"
           }
          ],
          "scatterternary": [
           {
            "marker": {
             "colorbar": {
              "outlinewidth": 0,
              "ticks": ""
             }
            },
            "type": "scatterternary"
           }
          ],
          "surface": [
           {
            "colorbar": {
             "outlinewidth": 0,
             "ticks": ""
            },
            "colorscale": [
             [
              0,
              "#0d0887"
             ],
             [
              0.1111111111111111,
              "#46039f"
             ],
             [
              0.2222222222222222,
              "#7201a8"
             ],
             [
              0.3333333333333333,
              "#9c179e"
             ],
             [
              0.4444444444444444,
              "#bd3786"
             ],
             [
              0.5555555555555556,
              "#d8576b"
             ],
             [
              0.6666666666666666,
              "#ed7953"
             ],
             [
              0.7777777777777778,
              "#fb9f3a"
             ],
             [
              0.8888888888888888,
              "#fdca26"
             ],
             [
              1,
              "#f0f921"
             ]
            ],
            "type": "surface"
           }
          ],
          "table": [
           {
            "cells": {
             "fill": {
              "color": "#EBF0F8"
             },
             "line": {
              "color": "white"
             }
            },
            "header": {
             "fill": {
              "color": "#C8D4E3"
             },
             "line": {
              "color": "white"
             }
            },
            "type": "table"
           }
          ]
         },
         "layout": {
          "annotationdefaults": {
           "arrowcolor": "#2a3f5f",
           "arrowhead": 0,
           "arrowwidth": 1
          },
          "autotypenumbers": "strict",
          "coloraxis": {
           "colorbar": {
            "outlinewidth": 0,
            "ticks": ""
           }
          },
          "colorscale": {
           "diverging": [
            [
             0,
             "#8e0152"
            ],
            [
             0.1,
             "#c51b7d"
            ],
            [
             0.2,
             "#de77ae"
            ],
            [
             0.3,
             "#f1b6da"
            ],
            [
             0.4,
             "#fde0ef"
            ],
            [
             0.5,
             "#f7f7f7"
            ],
            [
             0.6,
             "#e6f5d0"
            ],
            [
             0.7,
             "#b8e186"
            ],
            [
             0.8,
             "#7fbc41"
            ],
            [
             0.9,
             "#4d9221"
            ],
            [
             1,
             "#276419"
            ]
           ],
           "sequential": [
            [
             0,
             "#0d0887"
            ],
            [
             0.1111111111111111,
             "#46039f"
            ],
            [
             0.2222222222222222,
             "#7201a8"
            ],
            [
             0.3333333333333333,
             "#9c179e"
            ],
            [
             0.4444444444444444,
             "#bd3786"
            ],
            [
             0.5555555555555556,
             "#d8576b"
            ],
            [
             0.6666666666666666,
             "#ed7953"
            ],
            [
             0.7777777777777778,
             "#fb9f3a"
            ],
            [
             0.8888888888888888,
             "#fdca26"
            ],
            [
             1,
             "#f0f921"
            ]
           ],
           "sequentialminus": [
            [
             0,
             "#0d0887"
            ],
            [
             0.1111111111111111,
             "#46039f"
            ],
            [
             0.2222222222222222,
             "#7201a8"
            ],
            [
             0.3333333333333333,
             "#9c179e"
            ],
            [
             0.4444444444444444,
             "#bd3786"
            ],
            [
             0.5555555555555556,
             "#d8576b"
            ],
            [
             0.6666666666666666,
             "#ed7953"
            ],
            [
             0.7777777777777778,
             "#fb9f3a"
            ],
            [
             0.8888888888888888,
             "#fdca26"
            ],
            [
             1,
             "#f0f921"
            ]
           ]
          },
          "colorway": [
           "#636efa",
           "#EF553B",
           "#00cc96",
           "#ab63fa",
           "#FFA15A",
           "#19d3f3",
           "#FF6692",
           "#B6E880",
           "#FF97FF",
           "#FECB52"
          ],
          "font": {
           "color": "#2a3f5f"
          },
          "geo": {
           "bgcolor": "white",
           "lakecolor": "white",
           "landcolor": "#E5ECF6",
           "showlakes": true,
           "showland": true,
           "subunitcolor": "white"
          },
          "hoverlabel": {
           "align": "left"
          },
          "hovermode": "closest",
          "mapbox": {
           "style": "light"
          },
          "paper_bgcolor": "white",
          "plot_bgcolor": "#E5ECF6",
          "polar": {
           "angularaxis": {
            "gridcolor": "white",
            "linecolor": "white",
            "ticks": ""
           },
           "bgcolor": "#E5ECF6",
           "radialaxis": {
            "gridcolor": "white",
            "linecolor": "white",
            "ticks": ""
           }
          },
          "scene": {
           "xaxis": {
            "backgroundcolor": "#E5ECF6",
            "gridcolor": "white",
            "gridwidth": 2,
            "linecolor": "white",
            "showbackground": true,
            "ticks": "",
            "zerolinecolor": "white"
           },
           "yaxis": {
            "backgroundcolor": "#E5ECF6",
            "gridcolor": "white",
            "gridwidth": 2,
            "linecolor": "white",
            "showbackground": true,
            "ticks": "",
            "zerolinecolor": "white"
           },
           "zaxis": {
            "backgroundcolor": "#E5ECF6",
            "gridcolor": "white",
            "gridwidth": 2,
            "linecolor": "white",
            "showbackground": true,
            "ticks": "",
            "zerolinecolor": "white"
           }
          },
          "shapedefaults": {
           "line": {
            "color": "#2a3f5f"
           }
          },
          "ternary": {
           "aaxis": {
            "gridcolor": "white",
            "linecolor": "white",
            "ticks": ""
           },
           "baxis": {
            "gridcolor": "white",
            "linecolor": "white",
            "ticks": ""
           },
           "bgcolor": "#E5ECF6",
           "caxis": {
            "gridcolor": "white",
            "linecolor": "white",
            "ticks": ""
           }
          },
          "title": {
           "x": 0.05
          },
          "xaxis": {
           "automargin": true,
           "gridcolor": "white",
           "linecolor": "white",
           "ticks": "",
           "title": {
            "standoff": 15
           },
           "zerolinecolor": "white",
           "zerolinewidth": 2
          },
          "yaxis": {
           "automargin": true,
           "gridcolor": "white",
           "linecolor": "white",
           "ticks": "",
           "title": {
            "standoff": 15
           },
           "zerolinecolor": "white",
           "zerolinewidth": 2
          }
         }
        },
        "title": {
         "text": "Percent Change in Income Over Time (2014-2024)"
        },
        "xaxis": {
         "anchor": "y",
         "domain": [
          0,
          1
         ],
         "title": {
          "text": "Year"
         }
        },
        "yaxis": {
         "anchor": "x",
         "domain": [
          0,
          1
         ],
         "title": {
          "text": "Increase since 2014 (%)"
         }
        }
       }
      }
     },
     "metadata": {},
     "output_type": "display_data"
    }
   ],
   "source": [
    "import plotly.express as px\n",
    "\n",
    "fig = px.line(income_data, x=income_data.index.get_level_values(0), y='total_change_pct',\n",
    "              color=income_data.index.get_level_values(1), markers=True, title=\"Percent Change in Income Over Time (2014-2024)\",\n",
    "              labels={\n",
    "                  'x': 'Year',\n",
    "                  'total_change_pct': 'Increase since 2014 (%)',\n",
    "                  'color': 'Income Class'\n",
    "              })\n",
    "\n",
    "fig.show()"
   ]
  }
 ],
 "metadata": {
  "kernelspec": {
   "display_name": ".venv",
   "language": "python",
   "name": "python3"
  },
  "language_info": {
   "codemirror_mode": {
    "name": "ipython",
    "version": 3
   },
   "file_extension": ".py",
   "mimetype": "text/x-python",
   "name": "python",
   "nbconvert_exporter": "python",
   "pygments_lexer": "ipython3",
   "version": "3.12.0"
  }
 },
 "nbformat": 4,
 "nbformat_minor": 5
}
